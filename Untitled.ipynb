{
 "cells": [
  {
   "cell_type": "code",
   "execution_count": 2,
   "id": "80afbd46-140c-4ee7-8bab-e1a4c5f25cdc",
   "metadata": {},
   "outputs": [
    {
     "data": {
      "text/html": [
       "<div>\n",
       "<style scoped>\n",
       "    .dataframe tbody tr th:only-of-type {\n",
       "        vertical-align: middle;\n",
       "    }\n",
       "\n",
       "    .dataframe tbody tr th {\n",
       "        vertical-align: top;\n",
       "    }\n",
       "\n",
       "    .dataframe thead th {\n",
       "        text-align: right;\n",
       "    }\n",
       "</style>\n",
       "<table border=\"1\" class=\"dataframe\">\n",
       "  <thead>\n",
       "    <tr style=\"text-align: right;\">\n",
       "      <th></th>\n",
       "      <th>Rating</th>\n",
       "      <th>Review Title</th>\n",
       "      <th>Review Content</th>\n",
       "    </tr>\n",
       "  </thead>\n",
       "  <tbody>\n",
       "    <tr>\n",
       "      <th>0</th>\n",
       "      <td>5,0 von 5 Sternen</td>\n",
       "      <td>Der Unterschied</td>\n",
       "      <td>Normalerweise steht auf einer Verpackung Neu o...</td>\n",
       "    </tr>\n",
       "    <tr>\n",
       "      <th>1</th>\n",
       "      <td>1,0 von 5 Sternen</td>\n",
       "      <td>achtung keine Airpods 2</td>\n",
       "      <td>Normalerweise steht auf einer Verpackung Neu o...</td>\n",
       "    </tr>\n",
       "    <tr>\n",
       "      <th>2</th>\n",
       "      <td>1,0 von 5 Sternen</td>\n",
       "      <td>Gratis Ohrenschmalz und verdrecktes Case.</td>\n",
       "      <td>Absolute Unverschämtheit. Ich habe zwar schon ...</td>\n",
       "    </tr>\n",
       "    <tr>\n",
       "      <th>3</th>\n",
       "      <td>1,0 von 5 Sternen</td>\n",
       "      <td>Funktionieren nicht</td>\n",
       "      <td>Ich habe dir AirPods vor ca einer Stunde bekom...</td>\n",
       "    </tr>\n",
       "    <tr>\n",
       "      <th>4</th>\n",
       "      <td>5,0 von 5 Sternen</td>\n",
       "      <td>Ein Knaller!</td>\n",
       "      <td>Ich habe selten ein so durchdachtes Feature ge...</td>\n",
       "    </tr>\n",
       "  </tbody>\n",
       "</table>\n",
       "</div>"
      ],
      "text/plain": [
       "              Rating                               Review Title  \\\n",
       "0  5,0 von 5 Sternen                            Der Unterschied   \n",
       "1  1,0 von 5 Sternen                    achtung keine Airpods 2   \n",
       "2  1,0 von 5 Sternen  Gratis Ohrenschmalz und verdrecktes Case.   \n",
       "3  1,0 von 5 Sternen                        Funktionieren nicht   \n",
       "4  5,0 von 5 Sternen                               Ein Knaller!   \n",
       "\n",
       "                                      Review Content  \n",
       "0  Normalerweise steht auf einer Verpackung Neu o...  \n",
       "1  Normalerweise steht auf einer Verpackung Neu o...  \n",
       "2  Absolute Unverschämtheit. Ich habe zwar schon ...  \n",
       "3  Ich habe dir AirPods vor ca einer Stunde bekom...  \n",
       "4  Ich habe selten ein so durchdachtes Feature ge...  "
      ]
     },
     "execution_count": 2,
     "metadata": {},
     "output_type": "execute_result"
    }
   ],
   "source": [
    "import pandas as pd \n",
    "df = pd.read_csv('Reviews of AirPods.csv')\n",
    "df.head()"
   ]
  }
 ],
 "metadata": {
  "kernelspec": {
   "display_name": "Python 3",
   "language": "python",
   "name": "python3"
  },
  "language_info": {
   "codemirror_mode": {
    "name": "ipython",
    "version": 3
   },
   "file_extension": ".py",
   "mimetype": "text/x-python",
   "name": "python",
   "nbconvert_exporter": "python",
   "pygments_lexer": "ipython3",
   "version": "3.8.8"
  }
 },
 "nbformat": 4,
 "nbformat_minor": 5
}
