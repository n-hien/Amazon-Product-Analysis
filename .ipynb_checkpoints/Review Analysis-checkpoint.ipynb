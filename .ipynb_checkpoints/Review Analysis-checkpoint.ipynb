{
 "cells": [
  {
   "cell_type": "code",
   "execution_count": 22,
   "id": "80afbd46-140c-4ee7-8bab-e1a4c5f25cdc",
   "metadata": {},
   "outputs": [
    {
     "data": {
      "text/html": [
       "<div>\n",
       "<style scoped>\n",
       "    .dataframe tbody tr th:only-of-type {\n",
       "        vertical-align: middle;\n",
       "    }\n",
       "\n",
       "    .dataframe tbody tr th {\n",
       "        vertical-align: top;\n",
       "    }\n",
       "\n",
       "    .dataframe thead th {\n",
       "        text-align: right;\n",
       "    }\n",
       "</style>\n",
       "<table border=\"1\" class=\"dataframe\">\n",
       "  <thead>\n",
       "    <tr style=\"text-align: right;\">\n",
       "      <th></th>\n",
       "      <th>Rating</th>\n",
       "      <th>Review Title</th>\n",
       "      <th>Review Content</th>\n",
       "    </tr>\n",
       "  </thead>\n",
       "  <tbody>\n",
       "    <tr>\n",
       "      <th>359</th>\n",
       "      <td>4,0 von 5 Sternen</td>\n",
       "      <td>be aware, they are the new airpods but come in...</td>\n",
       "      <td>This is not an issue if you don't wish to pay ...</td>\n",
       "    </tr>\n",
       "    <tr>\n",
       "      <th>637</th>\n",
       "      <td>5,0 von 5 Sternen</td>\n",
       "      <td>Der Unterschied</td>\n",
       "      <td>Normalerweise steht auf einer Verpackung Neu o...</td>\n",
       "    </tr>\n",
       "    <tr>\n",
       "      <th>225</th>\n",
       "      <td>5,0 von 5 Sternen</td>\n",
       "      <td>Ein Knaller!</td>\n",
       "      <td>Ich habe selten ein so durchdachtes Feature ge...</td>\n",
       "    </tr>\n",
       "    <tr>\n",
       "      <th>372</th>\n",
       "      <td>4,0 von 5 Sternen</td>\n",
       "      <td>be aware, they are the new airpods but come in...</td>\n",
       "      <td>This is not an issue if you don't wish to pay ...</td>\n",
       "    </tr>\n",
       "    <tr>\n",
       "      <th>500</th>\n",
       "      <td>5,0 von 5 Sternen</td>\n",
       "      <td>Durchdachtes Produkt</td>\n",
       "      <td>1.  Es sind die neuen AirPods 2 . Kann man lei...</td>\n",
       "    </tr>\n",
       "  </tbody>\n",
       "</table>\n",
       "</div>"
      ],
      "text/plain": [
       "                Rating                                       Review Title  \\\n",
       "359  4,0 von 5 Sternen  be aware, they are the new airpods but come in...   \n",
       "637  5,0 von 5 Sternen                                    Der Unterschied   \n",
       "225  5,0 von 5 Sternen                                       Ein Knaller!   \n",
       "372  4,0 von 5 Sternen  be aware, they are the new airpods but come in...   \n",
       "500  5,0 von 5 Sternen                               Durchdachtes Produkt   \n",
       "\n",
       "                                        Review Content  \n",
       "359  This is not an issue if you don't wish to pay ...  \n",
       "637  Normalerweise steht auf einer Verpackung Neu o...  \n",
       "225  Ich habe selten ein so durchdachtes Feature ge...  \n",
       "372  This is not an issue if you don't wish to pay ...  \n",
       "500  1.  Es sind die neuen AirPods 2 . Kann man lei...  "
      ]
     },
     "execution_count": 22,
     "metadata": {},
     "output_type": "execute_result"
    }
   ],
   "source": [
    "import pandas as pd \n",
    "df = pd.read_csv('Reviews of AirPods.csv')\n",
    "df.sample(5)"
   ]
  },
  {
   "cell_type": "code",
   "execution_count": 11,
   "id": "90084590-f9f4-4bdc-8faf-c1ae78ae77a7",
   "metadata": {},
   "outputs": [],
   "source": [
    "import nltk\n",
    "from nltk.corpus import stopwords\n",
    "from nltk import PorterStemmer"
   ]
  },
  {
   "cell_type": "code",
   "execution_count": 26,
   "id": "8cf2aaae-f804-4bce-879e-5b675ff1cc44",
   "metadata": {},
   "outputs": [],
   "source": [
    "stops=stopwords.words(['german','english'])"
   ]
  },
  {
   "cell_type": "code",
   "execution_count": 23,
   "id": "a4838e6e-a540-4e93-bd5e-a65e3e22c350",
   "metadata": {},
   "outputs": [],
   "source": [
    "import string\n",
    "import re\n",
    "\n",
    "def text_cleaner():\n",
    "    ps=PorterStemmer()\n",
    "    \n",
    "    "
   ]
  }
 ],
 "metadata": {
  "kernelspec": {
   "display_name": "Python 3",
   "language": "python",
   "name": "python3"
  },
  "language_info": {
   "codemirror_mode": {
    "name": "ipython",
    "version": 3
   },
   "file_extension": ".py",
   "mimetype": "text/x-python",
   "name": "python",
   "nbconvert_exporter": "python",
   "pygments_lexer": "ipython3",
   "version": "3.8.8"
  }
 },
 "nbformat": 4,
 "nbformat_minor": 5
}
