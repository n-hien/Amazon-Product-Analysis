{
 "cells": [
  {
   "cell_type": "code",
   "execution_count": 46,
   "id": "2e7f23b1-bdf1-4b3c-ba2b-5507fd370cbb",
   "metadata": {},
   "outputs": [
    {
     "data": {
      "text/plain": [
       "'B07PZR3PVB'"
      ]
     },
     "execution_count": 46,
     "metadata": {},
     "output_type": "execute_result"
    }
   ],
   "source": [
    "import pandas as pd \n",
    "df = pd.read_csv('amazon_earbuds.csv')\n",
    "df.drop_duplicates(subset=['Asin'], inplace = True) # now we have 250  rows instead of 381 as at the beginning\n",
    "data_asin = list(df.Asin)\n",
    "data_asin[13]"
   ]
  },
  {
   "cell_type": "code",
   "execution_count": 25,
   "id": "894fec4b-210a-4a40-bad8-2f489a307d8d",
   "metadata": {},
   "outputs": [],
   "source": [
    "import requests\n",
    "from bs4 import BeautifulSoup\n",
    "\n",
    "#Now create link to product with ASIN and get the link to page contains all customer reviews\n",
    "def get_review(asin):\n",
    "    url=\"https://www.amazon.de/dp/\"+asin #get product link\n",
    "    header = {'User-Agent': 'Mozilla/5.0 (Linux; Android 6.0; Nexus 5 Build/MRA58N) AppleWebKit/537.36 (KHTML, like Gecko) Chrome/95.0.4638.69 Mobile Safari/537.36 Edg/95.0.1020.44'}\n",
    "    r = requests.get(url, headers = header) #down page\n",
    "    content = r.content\n",
    "    soup=BeautifulSoup(content,\"html.parser\")\n",
    "    #search link to page contains all customer reviews\n",
    "    i = soup.find('a',{'data-hook':'see-all-reviews-link-mobile'})\n",
    "        #search and append reviews to dataFrame\n",
    "    link = i['href']\n",
    "    if link is None:\n",
    "        pass\n",
    "    else:\n",
    "        #search reviews on all pages\n",
    "        review_data = pd.DataFrame(columns=['Rating', 'Review Title','Review Content'])\n",
    "        for i in range(100):\n",
    "            url_review ='https://www.amazon.de'+link+'&pageNumber='+str(i)\n",
    "            re = requests.get(url, headers = header)\n",
    "            content_r = re.content\n",
    "            soup_r=BeautifulSoup(content_r,\"html.parser\")\n",
    "            for j in soup_r.find_all('div',{'data-hook':'mobley-review-content'}):\n",
    "                ratings = j.find_all('i',{'data-hook':'review-star-rating'})\n",
    "                titles = j.find_all('span',{'data-hook':'review-title'})\n",
    "                reviews = j.find_all('div',{'class':'a-row a-spacing-small cr-full-content aok-hidden'})\n",
    "                for element in ratings:\n",
    "                    if element is not None:\n",
    "                        rating = element.text\n",
    "                    else:\n",
    "                        rating = 'unknown'\n",
    "                for element in titles:\n",
    "                    if element is not None:\n",
    "                        title = element.text.strip()\n",
    "                    else:\n",
    "                        title = 'unknown' \n",
    "                for element in reviews:\n",
    "                    if element is not None:\n",
    "                        review = element.text.strip()\n",
    "                    else:\n",
    "                        review_content = 'unknown'\n",
    "                review_data = review_data.append({'Rating':rating, 'Review Title':title,'Review Content':review},ignore_index=True)\n",
    "    return review_data\n",
    "result = pd.DataFrame()\n",
    "for i in range(10):\n",
    "    df = get_review(data_asin[i])\n",
    "    result = result.append(df)\n",
    "result.to_csv('allreviews.csv', index=False, encoding='utf-8')"
   ]
  },
  {
   "cell_type": "code",
   "execution_count": null,
   "id": "7d61f580-f769-4260-8146-8c58df6b53e1",
   "metadata": {},
   "outputs": [],
   "source": []
  },
  {
   "cell_type": "code",
   "execution_count": 51,
   "id": "fb90e306-ea56-467e-bc7e-8b57eb43fb1b",
   "metadata": {},
   "outputs": [
    {
     "ename": "TypeError",
     "evalue": "'NoneType' object is not subscriptable",
     "output_type": "error",
     "traceback": [
      "\u001b[1;31m---------------------------------------------------------------------------\u001b[0m",
      "\u001b[1;31mTypeError\u001b[0m                                 Traceback (most recent call last)",
      "\u001b[1;32m<ipython-input-51-30dd5fd8573e>\u001b[0m in \u001b[0;36m<module>\u001b[1;34m\u001b[0m\n\u001b[0;32m     39\u001b[0m                 \u001b[0mreview_data\u001b[0m \u001b[1;33m=\u001b[0m \u001b[0mreview_data\u001b[0m\u001b[1;33m.\u001b[0m\u001b[0mappend\u001b[0m\u001b[1;33m(\u001b[0m\u001b[1;33m{\u001b[0m\u001b[1;34m'Rating'\u001b[0m\u001b[1;33m:\u001b[0m\u001b[0mrating\u001b[0m\u001b[1;33m,\u001b[0m \u001b[1;34m'Review Title'\u001b[0m\u001b[1;33m:\u001b[0m\u001b[0mtitle\u001b[0m\u001b[1;33m,\u001b[0m\u001b[1;34m'Review Content'\u001b[0m\u001b[1;33m:\u001b[0m\u001b[0mreview\u001b[0m\u001b[1;33m}\u001b[0m\u001b[1;33m,\u001b[0m\u001b[0mignore_index\u001b[0m\u001b[1;33m=\u001b[0m\u001b[1;32mTrue\u001b[0m\u001b[1;33m)\u001b[0m\u001b[1;33m\u001b[0m\u001b[1;33m\u001b[0m\u001b[0m\n\u001b[0;32m     40\u001b[0m     \u001b[1;32mreturn\u001b[0m \u001b[0mreview_data\u001b[0m\u001b[1;33m\u001b[0m\u001b[1;33m\u001b[0m\u001b[0m\n\u001b[1;32m---> 41\u001b[1;33m \u001b[0mdf\u001b[0m \u001b[1;33m=\u001b[0m \u001b[0mget_review\u001b[0m\u001b[1;33m(\u001b[0m\u001b[0mdata_asin\u001b[0m\u001b[1;33m[\u001b[0m\u001b[1;36m2\u001b[0m\u001b[1;33m]\u001b[0m\u001b[1;33m)\u001b[0m\u001b[1;33m\u001b[0m\u001b[1;33m\u001b[0m\u001b[0m\n\u001b[0m",
      "\u001b[1;32m<ipython-input-51-30dd5fd8573e>\u001b[0m in \u001b[0;36mget_review\u001b[1;34m(asin)\u001b[0m\n\u001b[0;32m      7\u001b[0m     \u001b[0mi\u001b[0m \u001b[1;33m=\u001b[0m \u001b[0msoup\u001b[0m\u001b[1;33m.\u001b[0m\u001b[0mfind\u001b[0m\u001b[1;33m(\u001b[0m\u001b[1;34m'a'\u001b[0m\u001b[1;33m,\u001b[0m\u001b[1;33m{\u001b[0m\u001b[1;34m'data-hook'\u001b[0m\u001b[1;33m:\u001b[0m\u001b[1;34m'see-all-reviews-link-mobile'\u001b[0m\u001b[1;33m}\u001b[0m\u001b[1;33m)\u001b[0m\u001b[1;33m\u001b[0m\u001b[1;33m\u001b[0m\u001b[0m\n\u001b[0;32m      8\u001b[0m         \u001b[1;31m#search and append reviews to dataFrame\u001b[0m\u001b[1;33m\u001b[0m\u001b[1;33m\u001b[0m\u001b[1;33m\u001b[0m\u001b[0m\n\u001b[1;32m----> 9\u001b[1;33m     \u001b[0mlink\u001b[0m \u001b[1;33m=\u001b[0m \u001b[0mi\u001b[0m\u001b[1;33m[\u001b[0m\u001b[1;34m'href'\u001b[0m\u001b[1;33m]\u001b[0m\u001b[1;33m\u001b[0m\u001b[1;33m\u001b[0m\u001b[0m\n\u001b[0m\u001b[0;32m     10\u001b[0m     \u001b[1;32mif\u001b[0m \u001b[0mlink\u001b[0m \u001b[1;32mis\u001b[0m \u001b[1;32mNone\u001b[0m\u001b[1;33m:\u001b[0m\u001b[1;33m\u001b[0m\u001b[1;33m\u001b[0m\u001b[0m\n\u001b[0;32m     11\u001b[0m         \u001b[1;32mpass\u001b[0m\u001b[1;33m\u001b[0m\u001b[1;33m\u001b[0m\u001b[0m\n",
      "\u001b[1;31mTypeError\u001b[0m: 'NoneType' object is not subscriptable"
     ]
    }
   ],
   "source": [
    "def get_review(asin):\n",
    "    url=\"https://www.amazon.de/dp/\"+asin #get product link\n",
    "    header = {'User-Agent': 'Mozilla/5.0 (Linux; Android 6.0; Nexus 5 Build/MRA58N) AppleWebKit/537.36 (KHTML, like Gecko) Chrome/95.0.4638.69 Mobile Safari/537.36 Edg/95.0.1020.44'}\n",
    "    r = requests.get(url, headers = header) #down page\n",
    "    content = r.content\n",
    "    soup=BeautifulSoup(content,\"html.parser\")\n",
    "    i = soup.find('a',{'data-hook':'see-all-reviews-link-mobile'})\n",
    "        #search and append reviews to dataFrame\n",
    "    link = i['href']\n",
    "    if link is None:\n",
    "        pass\n",
    "    else:\n",
    "        #search reviews on all pages\n",
    "        review_data = pd.DataFrame(columns=['Rating', 'Review Title','Review Content'])\n",
    "        for i in range(100):\n",
    "            url_review ='https://www.amazon.de'+link+'&pageNumber='+str(i)\n",
    "            re = requests.get(url, headers = header)\n",
    "            content_r = re.content\n",
    "            soup_r=BeautifulSoup(content_r,\"html.parser\")\n",
    "            for j in soup_r.find_all('div',{'data-hook':'mobley-review-content'}):\n",
    "                ratings = j.find_all('i',{'data-hook':'review-star-rating'})\n",
    "                titles = j.find_all('span',{'data-hook':'review-title'})\n",
    "                reviews = j.find_all('div',{'class':'a-row a-spacing-small cr-full-content aok-hidden'})\n",
    "                for element in ratings:\n",
    "                    if element is not None:\n",
    "                        rating = element.text\n",
    "                    else:\n",
    "                        rating = 'unknown'\n",
    "                for element in titles:\n",
    "                    if element is not None:\n",
    "                        title = element.text.strip()\n",
    "                    else:\n",
    "                        title = 'unknown' \n",
    "                for element in reviews:\n",
    "                    if element is not None:\n",
    "                        review = element.text.strip()\n",
    "                    else:\n",
    "                        review_content = 'unknown'\n",
    "                review_data = review_data.append({'Rating':rating, 'Review Title':title,'Review Content':review},ignore_index=True)\n",
    "    return review_data\n",
    "df = get_review(data_asin[2])"
   ]
  },
  {
   "cell_type": "code",
   "execution_count": null,
   "id": "92bbe271-e3bc-4926-b306-d205e0837ef8",
   "metadata": {},
   "outputs": [],
   "source": []
  },
  {
   "cell_type": "code",
   "execution_count": 48,
   "id": "36d55417-8832-4924-9314-199abb4a0798",
   "metadata": {},
   "outputs": [],
   "source": [
    "data = data.append(df)\n",
    "data.to_csv('allreviews.csv', index=False, encoding='utf-8')"
   ]
  },
  {
   "cell_type": "code",
   "execution_count": null,
   "id": "42d2b5de-4268-4595-aab2-51f2a88821d4",
   "metadata": {},
   "outputs": [],
   "source": []
  }
 ],
 "metadata": {
  "kernelspec": {
   "display_name": "Python 3",
   "language": "python",
   "name": "python3"
  },
  "language_info": {
   "codemirror_mode": {
    "name": "ipython",
    "version": 3
   },
   "file_extension": ".py",
   "mimetype": "text/x-python",
   "name": "python",
   "nbconvert_exporter": "python",
   "pygments_lexer": "ipython3",
   "version": "3.8.8"
  }
 },
 "nbformat": 4,
 "nbformat_minor": 5
}
