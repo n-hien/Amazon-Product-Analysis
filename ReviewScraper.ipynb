{
 "cells": [
  {
   "cell_type": "code",
   "execution_count": 4,
   "id": "2e7f23b1-bdf1-4b3c-ba2b-5507fd370cbb",
   "metadata": {},
   "outputs": [
    {
     "data": {
      "text/plain": [
       "['B08LGRK6MT', 'B08FB2V4GR', 'B08C5HYHYB', 'B08KDZ2NZX', 'B08832CDT9']"
      ]
     },
     "execution_count": 4,
     "metadata": {},
     "output_type": "execute_result"
    }
   ],
   "source": [
    "import pandas as pd \n",
    "df = pd.read_csv('amazon_earbuds.csv')\n",
    "df.drop_duplicates(subset=['Asin'], inplace = True) # now we have 250  rows instead of 381 as at the beginning\n",
    "data_asin = list(df.Asin)\n",
    "data_asin[0:5]"
   ]
  },
  {
   "cell_type": "code",
   "execution_count": 49,
   "id": "894fec4b-210a-4a40-bad8-2f489a307d8d",
   "metadata": {},
   "outputs": [],
   "source": [
    "import requests\n",
    "from bs4 import BeautifulSoup\n",
    "\n",
    "getfile = 'reviews.csv'\n",
    "#Now create link to product with ASIN and get the link to page contains all customer reviews\n",
    "def get_review(asin):\n",
    "    url=\"https://www.amazon.de/dp/\"+asin #get product link\n",
    "    header = {'User-Agent': 'Mozilla/5.0 (Linux; Android 6.0; Nexus 5 Build/MRA58N) AppleWebKit/537.36 (KHTML, like Gecko) Chrome/95.0.4638.69 Mobile Safari/537.36 Edg/95.0.1020.44'}\n",
    "    r = requests.get(url, headers = header) #down page\n",
    "    content = r.content\n",
    "    soup=BeautifulSoup(content,\"html.parser\")\n",
    "    #search link to page contains all customer reviews\n",
    "    i = soup.find('a',{'data-hook':'see-all-reviews-link-mobile'})\n",
    "        #search and append reviews to dataFrame\n",
    "    link = i['href']\n",
    "    #search reviews on all pages\n",
    "    review_data = pd.DataFrame(columns=['Rating', 'Review Title','Review Content'])\n",
    "    for i in range(50):\n",
    "        url_review ='https://www.amazon.de'+link+'&pageNumber='+str(i)\n",
    "        re = requests.get(url, headers = header)\n",
    "        content_r = re.content\n",
    "        soup_r=BeautifulSoup(content_r,\"html.parser\")\n",
    "        for j in soup_r.find_all('div',{'data-hook':'mobley-review-content'}):\n",
    "            ratings = j.find_all('i',{'data-hook':'review-star-rating'})\n",
    "            titles = j.find_all('span',{'data-hook':'review-title'})\n",
    "            reviews = j.find_all('div',{'class':'a-row a-spacing-small cr-full-content aok-hidden'})\n",
    "            for element in ratings:\n",
    "                if element is not None:\n",
    "                    rating = element.text\n",
    "                else:\n",
    "                    rating = 'unknown'\n",
    "            for element in titles:\n",
    "                if element is not None:\n",
    "                    title = element.text.strip()\n",
    "                else:\n",
    "                    title = 'unknown' \n",
    "            for element in reviews:\n",
    "                if element is not None:\n",
    "                    review = element.text.strip()\n",
    "                else:\n",
    "                    review_content = 'unknown'\n",
    "            review_data = review_data.append({'Rating':rating, 'Review Title':title,'Review Content':review},ignore_index=True)\n",
    "    return review_data\n",
    "result = pd.DataFrame()\n",
    "for i in range(len(data_asin)):\n",
    "    df = get_review(data_asin[i])\n",
    "    result = result.append(df)\n",
    "result.to_csv('reviews.csv', index=False, encoding='utf-8')"
   ]
  },
  {
   "cell_type": "code",
   "execution_count": 48,
   "id": "7d61f580-f769-4260-8146-8c58df6b53e1",
   "metadata": {},
   "outputs": [
    {
     "data": {
      "text/html": [
       "<div>\n",
       "<style scoped>\n",
       "    .dataframe tbody tr th:only-of-type {\n",
       "        vertical-align: middle;\n",
       "    }\n",
       "\n",
       "    .dataframe tbody tr th {\n",
       "        vertical-align: top;\n",
       "    }\n",
       "\n",
       "    .dataframe thead th {\n",
       "        text-align: right;\n",
       "    }\n",
       "</style>\n",
       "<table border=\"1\" class=\"dataframe\">\n",
       "  <thead>\n",
       "    <tr style=\"text-align: right;\">\n",
       "      <th></th>\n",
       "      <th>Rating</th>\n",
       "      <th>Review Title</th>\n",
       "      <th>Review Content</th>\n",
       "    </tr>\n",
       "  </thead>\n",
       "  <tbody>\n",
       "  </tbody>\n",
       "</table>\n",
       "</div>"
      ],
      "text/plain": [
       "Empty DataFrame\n",
       "Columns: [Rating, Review Title, Review Content]\n",
       "Index: []"
      ]
     },
     "execution_count": 48,
     "metadata": {},
     "output_type": "execute_result"
    }
   ],
   "source": [
    "import pandas as pd \n",
    "import requests\n",
    "from bs4 import BeautifulSoup\n",
    "url='https://www.amazon.de/JBL-Reflect-Mini-Ear-Sport-Kopfh%C3%B6rer-Noise-Cancelling-Schwarz/product-reviews/B08FB2V4GR/ref=cm_cr_arp_d_paging_btm_next_2?ie=UTF8&amp%3BreviewerType=all_reviews' #get product link\n",
    "header = {'User-Agent': 'Mozilla/5.0 (Linux; Android 6.0; Nexus 5 Build/MRA58N) AppleWebKit/537.36 (KHTML, like Gecko) Chrome/95.0.4638.69 Mobile Safari/537.36 Edg/95.0.1020.44'}\n",
    "r = requests.get(url, headers = header) #down page\n",
    "content = r.content\n",
    "soup=BeautifulSoup(content,\"html.parser\")\n",
    "review_data = pd.DataFrame(columns=['Rating', 'Review Title','Review Content'])\n",
    "for j in soup.find_all('div',{'data-hook':'mobley-review-content'}):\n",
    "    ratings = j.find_all('i',{'data-hook':'review-star-rating'})\n",
    "    titles = j.find_all('span',{'data-hook':'review-title'})\n",
    "    reviews = j.find_all('div',{'class':'a-row a-spacing-small cr-full-content aok-hidden'})\n",
    "    for element in ratings:\n",
    "        rating = element.text\n",
    "    for element in titles:\n",
    "        title = element.text.strip()\n",
    "    for element in titles:\n",
    "        review = element.text.strip()\n",
    "    review_data = review_data.append({'Rating':rating, 'Review Title':title,'Review Content':review},ignore_index=True)\n",
    "review_data"
   ]
  },
  {
   "cell_type": "code",
   "execution_count": 52,
   "id": "92bbe271-e3bc-4926-b306-d205e0837ef8",
   "metadata": {},
   "outputs": [],
   "source": [
    "import requests\n",
    "from bs4 import BeautifulSoup\n",
    "\n",
    "getfile = 'reviews.csv'\n",
    "#Now create link to product with ASIN and get the link to page contains all customer reviews\n",
    "def get_review(asin):\n",
    "    url=\"https://www.amazon.de/dp/\"+asin #get product link\n",
    "    header = {'User-Agent': 'Mozilla/5.0 (Linux; Android 6.0; Nexus 5 Build/MRA58N) AppleWebKit/537.36 (KHTML, like Gecko) Chrome/95.0.4638.69 Mobile Safari/537.36 Edg/95.0.1020.44'}\n",
    "    r = requests.get(url, headers = header) #down page\n",
    "    content = r.content\n",
    "    soup=BeautifulSoup(content,\"html.parser\")\n",
    "    #search link to page contains all customer reviews\n",
    "    i = soup.find('a',{'data-hook':'see-all-reviews-link-mobile'})\n",
    "        #search and append reviews to dataFrame\n",
    "    link = i['href']\n",
    "    #search reviews on all pages\n",
    "    review_data = pd.DataFrame(columns=['Rating', 'Review Title','Review Content'])\n",
    "    for i in range(50):\n",
    "        url_review ='https://www.amazon.de'+link+'&pageNumber='+str(i)\n",
    "        print(url_review)\n",
    "get_review(data_asin[1])"
   ]
  },
  {
   "cell_type": "code",
   "execution_count": null,
   "id": "36d55417-8832-4924-9314-199abb4a0798",
   "metadata": {},
   "outputs": [],
   "source": []
  }
 ],
 "metadata": {
  "kernelspec": {
   "display_name": "Python 3",
   "language": "python",
   "name": "python3"
  },
  "language_info": {
   "codemirror_mode": {
    "name": "ipython",
    "version": 3
   },
   "file_extension": ".py",
   "mimetype": "text/x-python",
   "name": "python",
   "nbconvert_exporter": "python",
   "pygments_lexer": "ipython3",
   "version": "3.8.8"
  }
 },
 "nbformat": 4,
 "nbformat_minor": 5
}
